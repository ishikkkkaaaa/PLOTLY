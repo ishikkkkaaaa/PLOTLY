{
 "cells": [
  {
   "cell_type": "code",
   "execution_count": 2,
   "id": "c17b33d8-c974-4bdb-b0b8-983deb57aa0f",
   "metadata": {},
   "outputs": [
    {
     "data": {
      "text/plain": [
       "'basic_distplot.html'"
      ]
     },
     "execution_count": 2,
     "metadata": {},
     "output_type": "execute_result"
    }
   ],
   "source": [
    "#######\n",
    "# This distplot uses plotly's Figure Factory\n",
    "# module in place of Graph Objects\n",
    "######\n",
    "import plotly.offline as pyo\n",
    "import plotly.figure_factory as ff\n",
    "import numpy as np\n",
    "\n",
    "x = np.random.randn(1000)\n",
    "hist_data = [x]\n",
    "group_labels = ['distplot']\n",
    "\n",
    "fig = ff.create_distplot(hist_data, group_labels)\n",
    "pyo.plot(fig, filename='basic_distplot.html')\n"
   ]
  },
  {
   "cell_type": "code",
   "execution_count": null,
   "id": "7d5ec7ed-7d0c-4383-8343-2bdfbf582b6d",
   "metadata": {},
   "outputs": [],
   "source": []
  }
 ],
 "metadata": {
  "kernelspec": {
   "display_name": "Python 3",
   "language": "python",
   "name": "python3"
  },
  "language_info": {
   "codemirror_mode": {
    "name": "ipython",
    "version": 3
   },
   "file_extension": ".py",
   "mimetype": "text/x-python",
   "name": "python",
   "nbconvert_exporter": "python",
   "pygments_lexer": "ipython3",
   "version": "3.8.10"
  }
 },
 "nbformat": 4,
 "nbformat_minor": 5
}
