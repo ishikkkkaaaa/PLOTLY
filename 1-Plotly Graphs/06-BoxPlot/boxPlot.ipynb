{
 "cells": [
  {
   "cell_type": "markdown",
   "id": "71ba0c52-129f-4fab-ae0b-2a3b3021a1c0",
   "metadata": {},
   "source": [
    "# BOXPLOT"
   ]
  },
  {
   "cell_type": "markdown",
   "id": "f99fd8e5-3c97-4bd7-a915-0f1cfb5d8982",
   "metadata": {},
   "source": [
    "> it visualizes various feature by depicting the continuous numerical data through quartiles"
   ]
  },
  {
   "cell_type": "markdown",
   "id": "763ea273-3326-4416-90ee-2447688f58a1",
   "metadata": {},
   "source": [
    "> data is separated based on categorical feature to compare the continuous feature based on category!"
   ]
  },
  {
   "cell_type": "markdown",
   "id": "d563d211-be39-44e2-9bcf-80c873310f21",
   "metadata": {},
   "source": [
    "> displays data districbution through their **quartiles**, which separates into *four* equal parts"
   ]
  },
  {
   "cell_type": "markdown",
   "id": "e12dbac3-fd4d-4a47-91c1-585df1c4a630",
   "metadata": {},
   "source": [
    "25 50 25"
   ]
  },
  {
   "cell_type": "markdown",
   "id": "8c0334c5-e276-455b-8c95-1ca6ac7df212",
   "metadata": {},
   "source": [
    "middle line-> median\n",
    "min/max-whiskers\n",
    "btw q1 and q2-> we have median->interquartile range\n"
   ]
  },
  {
   "cell_type": "markdown",
   "id": "95dd2054-d5d6-4f90-b9bb-74a4ff370430",
   "metadata": {},
   "source": [
    "boxplot basically identifies **OUTLIERS** from the mdeian compared to the rest of the data\n",
    "> outliers->larger than q3, by atleast 1.5 times and vice versa for smaller"
   ]
  },
  {
   "cell_type": "code",
   "execution_count": 15,
   "id": "13f593ba-b9a3-407f-8519-e76cd89ecf55",
   "metadata": {},
   "outputs": [],
   "source": [
    "import plotly.offline as pyo\n",
    "import plotly.graph_objs as go\n",
    "import pandas as pd"
   ]
  },
  {
   "cell_type": "code",
   "execution_count": 16,
   "id": "1cc03500-b352-4ab4-a3ac-c9ddb7aa80e4",
   "metadata": {},
   "outputs": [],
   "source": [
    "y = [1,14,14,15,16,18,18,19,19,20,20,23,24,26,27,27,28,29,33,54]"
   ]
  },
  {
   "cell_type": "code",
   "execution_count": 17,
   "id": "06a66345-e17d-474c-b9c0-4b963c0e2837",
   "metadata": {},
   "outputs": [
    {
     "data": {
      "text/plain": [
       "'temp-plot.html'"
      ]
     },
     "execution_count": 17,
     "metadata": {},
     "output_type": "execute_result"
    }
   ],
   "source": [
    "data=[go.Box(y=y,\n",
    "     boxpoints='all',# display the original data points\n",
    "     jitter=1, # spread them out so they all appear\n",
    "     pointpos=0.3   )] # offset them to the left of the box       \n",
    "pyo.plot(data)"
   ]
  },
  {
   "cell_type": "code",
   "execution_count": 18,
   "id": "08db05b6-7e21-4a02-86f4-ac72856f1ad0",
   "metadata": {},
   "outputs": [
    {
     "data": {
      "text/plain": [
       "'onlyOutliers.html'"
      ]
     },
     "execution_count": 18,
     "metadata": {},
     "output_type": "execute_result"
    }
   ],
   "source": [
    "#displays only outliers\n",
    "data=[go.Box(y=y,\n",
    "     boxpoints='outliers')]      \n",
    "pyo.plot(data,filename=\"onlyOutliers.html\")"
   ]
  },
  {
   "cell_type": "code",
   "execution_count": 19,
   "id": "1047ac86-6ebb-4ba1-8d07-756e10fb47da",
   "metadata": {},
   "outputs": [],
   "source": [
    "snodgrass = [.209,.205,.196,.210,.202,.207,.224,.223,.220,.201]\n",
    "twain = [.225,.262,.217,.240,.230,.229,.235,.217]"
   ]
  },
  {
   "cell_type": "code",
   "execution_count": null,
   "id": "b232e59a-e122-421d-922a-0dbbcba8d494",
   "metadata": {},
   "outputs": [],
   "source": [
    "data=[go.Box(\n",
    "        y=snodgrass,name=\"Snodgrass\"),\n",
    "      go.Box(\n",
    "        y=twain,name=\"Twain\")\n",
    "        ]\n"
   ]
  }
 ],
 "metadata": {
  "kernelspec": {
   "display_name": "Python 3",
   "language": "python",
   "name": "python3"
  },
  "language_info": {
   "codemirror_mode": {
    "name": "ipython",
    "version": 3
   },
   "file_extension": ".py",
   "mimetype": "text/x-python",
   "name": "python",
   "nbconvert_exporter": "python",
   "pygments_lexer": "ipython3",
   "version": "3.8.10"
  }
 },
 "nbformat": 4,
 "nbformat_minor": 5
}
