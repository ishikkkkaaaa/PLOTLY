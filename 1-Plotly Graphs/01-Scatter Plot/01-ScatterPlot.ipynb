{
 "cells": [
  {
   "cell_type": "code",
   "execution_count": 2,
   "id": "255c8071-e246-4108-aa07-35700aae4b58",
   "metadata": {},
   "outputs": [
    {
     "data": {
      "text/plain": [
       "'scatter3.html'"
      ]
     },
     "execution_count": 2,
     "metadata": {},
     "output_type": "execute_result"
    }
   ],
   "source": [
    "# Allows the caprison of 2 variables for a set of data points\n",
    "\n",
    "import plotly.offline as pyo\n",
    "import plotly.graph_objs as go\n",
    "import numpy as np\n",
    "\n",
    "np.random.seed(42)\n",
    "random_x = np.random.randint(1, 101, 100)\n",
    "random_y = np.random.randint(1, 101, 100)\n",
    "\n",
    "data = [go.Scatter(\n",
    "    x=random_x,\n",
    "    y=random_y,\n",
    "    mode='markers',\n",
    "    marker=dict(\n",
    "        size=12,\n",
    "        color='rgb(51,204,153)',\n",
    "        symbol='pentagon',\n",
    "        line={'width': 2}\n",
    "    ))]\n",
    "layout = go.Layout(\n",
    "    title='Random Data Scatterplot',  # Graph title\n",
    "    xaxis=dict(title='Some random x-values'),  # x-axis label\n",
    "    yaxis=dict(title='Some random y-values'),  # y-axis label\n",
    "    hovermode='closest'  # handles multiple points landing on the same vertical\n",
    ")\n",
    "fig = go.Figure(data=data, layout=layout)\n",
    "pyo.plot(fig, filename='scatter3.html')\n"
   ]
  },
  {
   "cell_type": "code",
   "execution_count": null,
   "id": "e9074b2f-5b31-4b5c-b2fe-ee330dc8edcc",
   "metadata": {},
   "outputs": [],
   "source": []
  }
 ],
 "metadata": {
  "kernelspec": {
   "display_name": "Python 3",
   "language": "python",
   "name": "python3"
  },
  "language_info": {
   "codemirror_mode": {
    "name": "ipython",
    "version": 3
   },
   "file_extension": ".py",
   "mimetype": "text/x-python",
   "name": "python",
   "nbconvert_exporter": "python",
   "pygments_lexer": "ipython3",
   "version": "3.8.10"
  }
 },
 "nbformat": 4,
 "nbformat_minor": 5
}
