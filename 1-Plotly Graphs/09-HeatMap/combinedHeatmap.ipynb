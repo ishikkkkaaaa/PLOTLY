{
 "cells": [
  {
   "cell_type": "code",
   "execution_count": 1,
   "id": "8590696f-c150-4186-8ba4-5a9406e87cb1",
   "metadata": {},
   "outputs": [],
   "source": [
    "import pandas as pd\n",
    "import plotly.offline as pyo\n",
    "import plotly.graph_objects as go"
   ]
  },
  {
   "cell_type": "code",
   "execution_count": 2,
   "id": "0fec708b-782a-443a-a207-8fd0754c4698",
   "metadata": {},
   "outputs": [],
   "source": [
    "df1=pd.read_csv('../Data/2010SantaBarbaraCA.csv')\n",
    "df2=pd.read_csv('../Data/2010SitkaAK.csv')\n",
    "df3=pd.read_csv('../Data/2010YumaAZ.csv')"
   ]
  },
  {
   "cell_type": "code",
   "execution_count": 4,
   "id": "ce3dcd27-f240-4e7f-9019-e600c793f6a3",
   "metadata": {},
   "outputs": [],
   "source": [
    "trace1=go.Heatmap(x=df1['DAY'],y=df1['LST_TIME'],z=df1['T_HR_AVG'],colorscale='Jet',zmin=5,zmax=40)\n",
    "\n",
    "trace2=go.Heatmap(x=df2['DAY'],y=df2['LST_TIME'],z=df2['T_HR_AVG'],colorscale='Jet',zmin=5,zmax=40)\n",
    "\n",
    "trace3=go.Heatmap(x=df3['DAY'],y=df3['LST_TIME'],z=df3['T_HR_AVG'],colorscale='Jet',zmin=5,zmax=40)"
   ]
  },
  {
   "cell_type": "code",
   "execution_count": 6,
   "id": "fb2b5e25-f568-40a7-8659-ddff3900b1ae",
   "metadata": {},
   "outputs": [],
   "source": [
    "#importign for subplots\n",
    "from plotly import tools"
   ]
  },
  {
   "cell_type": "code",
   "execution_count": 11,
   "id": "993f93c8-b21d-497e-afa6-802dc03eedb1",
   "metadata": {},
   "outputs": [],
   "source": [
    "fig = tools.make_subplots(rows=1, cols=3,\n",
    "    subplot_titles=('Sitka, AK','Santa Barbara, CA', 'Yuma, AZ'),\n",
    "    shared_yaxes = True,  # this makes the hours appear only on the left\n",
    ")"
   ]
  },
  {
   "cell_type": "code",
   "execution_count": 13,
   "id": "5db8766f-f0eb-4b0a-aa79-ead0156e76b1",
   "metadata": {},
   "outputs": [],
   "source": [
    "fig.append_trace(trace1,1,1)\n",
    "fig.append_trace(trace2,1,2)\n",
    "fig.append_trace(trace3,1,3)"
   ]
  },
  {
   "cell_type": "code",
   "execution_count": 16,
   "id": "9d203167-d3a0-43c8-818d-3fa24824bdf4",
   "metadata": {},
   "outputs": [
    {
     "data": {
      "text/plain": [
       "Layout({\n",
       "    'annotations': [{'font': {'size': 16},\n",
       "                     'showarrow': False,\n",
       "                     'text': 'Sitka, AK',\n",
       "                     'x': 0.14444444444444446,\n",
       "                     'xanchor': 'center',\n",
       "                     'xref': 'paper',\n",
       "                     'y': 1.0,\n",
       "                     'yanchor': 'bottom',\n",
       "                     'yref': 'paper'},\n",
       "                    {'font': {'size': 16},\n",
       "                     'showarrow': False,\n",
       "                     'text': 'Santa Barbara, CA',\n",
       "                     'x': 0.5,\n",
       "                     'xanchor': 'center',\n",
       "                     'xref': 'paper',\n",
       "                     'y': 1.0,\n",
       "                     'yanchor': 'bottom',\n",
       "                     'yref': 'paper'},\n",
       "                    {'font': {'size': 16},\n",
       "                     'showarrow': False,\n",
       "                     'text': 'Yuma, AZ',\n",
       "                     'x': 0.8555555555555556,\n",
       "                     'xanchor': 'center',\n",
       "                     'xref': 'paper',\n",
       "                     'y': 1.0,\n",
       "                     'yanchor': 'bottom',\n",
       "                     'yref': 'paper'}],\n",
       "    'template': '...',\n",
       "    'title': {'text': 'Temps for 3 cities'},\n",
       "    'xaxis': {'anchor': 'y', 'domain': [0.0, 0.2888888888888889]},\n",
       "    'xaxis2': {'anchor': 'y2', 'domain': [0.35555555555555557, 0.6444444444444445]},\n",
       "    'xaxis3': {'anchor': 'y3', 'domain': [0.7111111111111111, 1.0]},\n",
       "    'yaxis': {'anchor': 'x', 'domain': [0.0, 1.0]},\n",
       "    'yaxis2': {'anchor': 'x2', 'domain': [0.0, 1.0], 'matches': 'y', 'showticklabels': False},\n",
       "    'yaxis3': {'anchor': 'x3', 'domain': [0.0, 1.0], 'matches': 'y', 'showticklabels': False}\n",
       "})"
      ]
     },
     "execution_count": 16,
     "metadata": {},
     "output_type": "execute_result"
    }
   ],
   "source": [
    "fig['layout'].update(title='Temps for 3 cities')"
   ]
  },
  {
   "cell_type": "code",
   "execution_count": 17,
   "id": "006b6b5d-2ab7-49be-96d0-99a150abf97d",
   "metadata": {},
   "outputs": [
    {
     "data": {
      "text/plain": [
       "'combinedHeatmap.html'"
      ]
     },
     "execution_count": 17,
     "metadata": {},
     "output_type": "execute_result"
    }
   ],
   "source": [
    "pyo.plot(fig,filename=\"combinedHeatmap.html\")"
   ]
  },
  {
   "cell_type": "code",
   "execution_count": null,
   "id": "3830f43f-092f-4be7-ad44-077604e770ba",
   "metadata": {},
   "outputs": [],
   "source": []
  }
 ],
 "metadata": {
  "kernelspec": {
   "display_name": "Python 3",
   "language": "python",
   "name": "python3"
  },
  "language_info": {
   "codemirror_mode": {
    "name": "ipython",
    "version": 3
   },
   "file_extension": ".py",
   "mimetype": "text/x-python",
   "name": "python",
   "nbconvert_exporter": "python",
   "pygments_lexer": "ipython3",
   "version": "3.8.10"
  }
 },
 "nbformat": 4,
 "nbformat_minor": 5
}
