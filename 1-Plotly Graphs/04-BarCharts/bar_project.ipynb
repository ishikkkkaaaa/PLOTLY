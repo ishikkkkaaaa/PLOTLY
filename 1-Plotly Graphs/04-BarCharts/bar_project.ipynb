{
 "cells": [
  {
   "cell_type": "code",
   "execution_count": 1,
   "id": "a5ae3e26-3fef-407a-a5df-ddfa5102692f",
   "metadata": {},
   "outputs": [],
   "source": [
    "import pandas as pd\n",
    "import plotly.offline as pyo\n",
    "import plotly.graph_objs as go"
   ]
  },
  {
   "cell_type": "code",
   "execution_count": 4,
   "id": "7e686fb8-ee3a-46c3-a072-fd91eab3231b",
   "metadata": {},
   "outputs": [
    {
     "data": {
      "text/html": [
       "<div>\n",
       "<style scoped>\n",
       "    .dataframe tbody tr th:only-of-type {\n",
       "        vertical-align: middle;\n",
       "    }\n",
       "\n",
       "    .dataframe tbody tr th {\n",
       "        vertical-align: top;\n",
       "    }\n",
       "\n",
       "    .dataframe thead th {\n",
       "        text-align: right;\n",
       "    }\n",
       "</style>\n",
       "<table border=\"1\" class=\"dataframe\">\n",
       "  <thead>\n",
       "    <tr style=\"text-align: right;\">\n",
       "      <th></th>\n",
       "      <th>Strongly Agree</th>\n",
       "      <th>Somewhat Agree</th>\n",
       "      <th>Neutral</th>\n",
       "      <th>Somewhat Disagree</th>\n",
       "      <th>Strongly Disagree</th>\n",
       "    </tr>\n",
       "  </thead>\n",
       "  <tbody>\n",
       "    <tr>\n",
       "      <th>Question 1</th>\n",
       "      <td>0.45</td>\n",
       "      <td>0.25</td>\n",
       "      <td>0.10</td>\n",
       "      <td>0.12</td>\n",
       "      <td>0.08</td>\n",
       "    </tr>\n",
       "    <tr>\n",
       "      <th>Question 2</th>\n",
       "      <td>0.12</td>\n",
       "      <td>0.07</td>\n",
       "      <td>0.48</td>\n",
       "      <td>0.18</td>\n",
       "      <td>0.15</td>\n",
       "    </tr>\n",
       "    <tr>\n",
       "      <th>Question 3</th>\n",
       "      <td>0.05</td>\n",
       "      <td>0.22</td>\n",
       "      <td>0.19</td>\n",
       "      <td>0.23</td>\n",
       "      <td>0.31</td>\n",
       "    </tr>\n",
       "  </tbody>\n",
       "</table>\n",
       "</div>"
      ],
      "text/plain": [
       "            Strongly Agree  Somewhat Agree  Neutral  Somewhat Disagree  \\\n",
       "Question 1            0.45            0.25     0.10               0.12   \n",
       "Question 2            0.12            0.07     0.48               0.18   \n",
       "Question 3            0.05            0.22     0.19               0.23   \n",
       "\n",
       "            Strongly Disagree  \n",
       "Question 1               0.08  \n",
       "Question 2               0.15  \n",
       "Question 3               0.31  "
      ]
     },
     "execution_count": 4,
     "metadata": {},
     "output_type": "execute_result"
    }
   ],
   "source": [
    "df=pd.read_csv('../Data/mocksurvey.csv',index_col=0)\n",
    "df.head()"
   ]
  },
  {
   "cell_type": "code",
   "execution_count": 18,
   "id": "339f449c-18bf-4791-a261-b90b19fc2dfb",
   "metadata": {},
   "outputs": [],
   "source": [
    "# create traces using a list comprehension:\n",
    "data=[go.Bar(x=df.index,y=df[response],name=response) for\n",
    "     response in df.columns]"
   ]
  },
  {
   "cell_type": "code",
   "execution_count": 19,
   "id": "d1dccab5-e33a-4ea1-ba69-79b7808c774a",
   "metadata": {},
   "outputs": [
    {
     "data": {
      "text/plain": [
       "'mocksurvey.html'"
      ]
     },
     "execution_count": 19,
     "metadata": {},
     "output_type": "execute_result"
    }
   ],
   "source": [
    "layout=go.Layout(title=\"Survey Results\",barmode=\"stack\")\n",
    "fig=go.Figure(data=data,layout=layout)\n",
    "pyo.plot(fig,filename='mocksurvey.html')"
   ]
  },
  {
   "cell_type": "code",
   "execution_count": 23,
   "id": "4f46b7a7-be05-4c71-96ad-dfb84d478761",
   "metadata": {},
   "outputs": [
    {
     "data": {
      "text/plain": [
       "'horizontal-mocksurvey.html'"
      ]
     },
     "execution_count": 23,
     "metadata": {},
     "output_type": "execute_result"
    }
   ],
   "source": [
    "#if we want it to be horizontal\n",
    "datah=[go.Bar(x=df[response],y=df.index,orientation='h',name=response) for response in df.columns]\n",
    "layout=go.Layout(title=\"Survey Results\",barmode=\"stack\")\n",
    "fig=go.Figure(data=datah,layout=layout)\n",
    "pyo.plot(fig,filename='horizontal-mocksurvey.html')"
   ]
  },
  {
   "cell_type": "code",
   "execution_count": null,
   "id": "b6a794a3-1087-4e45-9139-edd603a19733",
   "metadata": {},
   "outputs": [],
   "source": []
  }
 ],
 "metadata": {
  "kernelspec": {
   "display_name": "Python 3",
   "language": "python",
   "name": "python3"
  },
  "language_info": {
   "codemirror_mode": {
    "name": "ipython",
    "version": 3
   },
   "file_extension": ".py",
   "mimetype": "text/x-python",
   "name": "python",
   "nbconvert_exporter": "python",
   "pygments_lexer": "ipython3",
   "version": "3.8.10"
  }
 },
 "nbformat": 4,
 "nbformat_minor": 5
}
