{
 "cells": [
  {
   "cell_type": "markdown",
   "id": "71ba0c52-129f-4fab-ae0b-2a3b3021a1c0",
   "metadata": {},
   "source": [
    "# BOXPLOT"
   ]
  },
  {
   "cell_type": "markdown",
   "id": "f99fd8e5-3c97-4bd7-a915-0f1cfb5d8982",
   "metadata": {},
   "source": [
    "> it visualizes various feature by depicting the continuous numerical data through quartiles"
   ]
  },
  {
   "cell_type": "markdown",
   "id": "763ea273-3326-4416-90ee-2447688f58a1",
   "metadata": {},
   "source": [
    "> data is separated based on categorical feature to compare the continuous feature based on category!"
   ]
  },
  {
   "cell_type": "markdown",
   "id": "d563d211-be39-44e2-9bcf-80c873310f21",
   "metadata": {},
   "source": [
    "> displays data districbution through their **quartiles**, which separates into four* equal parts"
   ]
  },
  {
   "cell_type": "code",
   "execution_count": null,
   "id": "44bc6997-3ecd-4a88-96b2-bb4646172251",
   "metadata": {},
   "outputs": [],
   "source": []
  }
 ],
 "metadata": {
  "kernelspec": {
   "display_name": "Python 3",
   "language": "python",
   "name": "python3"
  },
  "language_info": {
   "codemirror_mode": {
    "name": "ipython",
    "version": 3
   },
   "file_extension": ".py",
   "mimetype": "text/x-python",
   "name": "python",
   "nbconvert_exporter": "python",
   "pygments_lexer": "ipython3",
   "version": "3.8.10"
  }
 },
 "nbformat": 4,
 "nbformat_minor": 5
}
