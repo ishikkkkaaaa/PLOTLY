{
 "cells": [
  {
   "cell_type": "code",
   "execution_count": 1,
   "id": "5a594032-5ce9-44b0-a702-304dde3359dc",
   "metadata": {},
   "outputs": [],
   "source": [
    "import plotly.offline as pyo\n",
    "import plotly.graph_objs as go\n",
    "import pandas as pd"
   ]
  },
  {
   "cell_type": "code",
   "execution_count": 2,
   "id": "24950e04-62f5-477c-83ca-f7a24309ae21",
   "metadata": {},
   "outputs": [
    {
     "data": {
      "text/html": [
       "<div>\n",
       "<style scoped>\n",
       "    .dataframe tbody tr th:only-of-type {\n",
       "        vertical-align: middle;\n",
       "    }\n",
       "\n",
       "    .dataframe tbody tr th {\n",
       "        vertical-align: top;\n",
       "    }\n",
       "\n",
       "    .dataframe thead th {\n",
       "        text-align: right;\n",
       "    }\n",
       "</style>\n",
       "<table border=\"1\" class=\"dataframe\">\n",
       "  <thead>\n",
       "    <tr style=\"text-align: right;\">\n",
       "      <th></th>\n",
       "      <th>LST_DATE</th>\n",
       "      <th>DAY</th>\n",
       "      <th>LST_TIME</th>\n",
       "      <th>T_HR_AVG</th>\n",
       "    </tr>\n",
       "  </thead>\n",
       "  <tbody>\n",
       "    <tr>\n",
       "      <th>0</th>\n",
       "      <td>20100601</td>\n",
       "      <td>TUESDAY</td>\n",
       "      <td>0:00</td>\n",
       "      <td>12.7</td>\n",
       "    </tr>\n",
       "    <tr>\n",
       "      <th>1</th>\n",
       "      <td>20100601</td>\n",
       "      <td>TUESDAY</td>\n",
       "      <td>1:00</td>\n",
       "      <td>12.7</td>\n",
       "    </tr>\n",
       "    <tr>\n",
       "      <th>2</th>\n",
       "      <td>20100601</td>\n",
       "      <td>TUESDAY</td>\n",
       "      <td>2:00</td>\n",
       "      <td>12.3</td>\n",
       "    </tr>\n",
       "    <tr>\n",
       "      <th>3</th>\n",
       "      <td>20100601</td>\n",
       "      <td>TUESDAY</td>\n",
       "      <td>3:00</td>\n",
       "      <td>12.5</td>\n",
       "    </tr>\n",
       "    <tr>\n",
       "      <th>4</th>\n",
       "      <td>20100601</td>\n",
       "      <td>TUESDAY</td>\n",
       "      <td>4:00</td>\n",
       "      <td>12.7</td>\n",
       "    </tr>\n",
       "  </tbody>\n",
       "</table>\n",
       "</div>"
      ],
      "text/plain": [
       "   LST_DATE      DAY LST_TIME  T_HR_AVG\n",
       "0  20100601  TUESDAY     0:00      12.7\n",
       "1  20100601  TUESDAY     1:00      12.7\n",
       "2  20100601  TUESDAY     2:00      12.3\n",
       "3  20100601  TUESDAY     3:00      12.5\n",
       "4  20100601  TUESDAY     4:00      12.7"
      ]
     },
     "execution_count": 2,
     "metadata": {},
     "output_type": "execute_result"
    }
   ],
   "source": [
    "df=pd.read_csv(\"../Data/2010SantaBarbaraCA.csv\")\n",
    "df.head()"
   ]
  },
  {
   "cell_type": "code",
   "execution_count": 10,
   "id": "a82bca5b-93b2-424f-be4c-4bc71eb7fa65",
   "metadata": {},
   "outputs": [],
   "source": [
    "data=[go.Heatmap(x=df['DAY'],\n",
    "                y=df['LST_TIME'],\n",
    "                z=df['T_HR_AVG'].values.tolist(),#z is going to be color, it cant be a df, so we convert it into a python list!\n",
    "                colorscale='Jet'\n",
    "                )]"
   ]
  },
  {
   "cell_type": "code",
   "execution_count": 11,
   "id": "68982d49-c23d-4d34-b398-c96bf69205a5",
   "metadata": {},
   "outputs": [],
   "source": [
    "layout=go.Layout(title='SB CA Temps')"
   ]
  },
  {
   "cell_type": "code",
   "execution_count": 12,
   "id": "1fed7e7e-eca0-41dd-affa-0d7abd506123",
   "metadata": {},
   "outputs": [
    {
     "data": {
      "text/plain": [
       "'heatmap.html'"
      ]
     },
     "execution_count": 12,
     "metadata": {},
     "output_type": "execute_result"
    }
   ],
   "source": [
    "fig=go.Figure(data=data,layout=layout)\n",
    "pyo.plot(fig,filename=\"heatmap.html\")"
   ]
  },
  {
   "cell_type": "code",
   "execution_count": 14,
   "id": "d85dc4cb-ad47-400f-93d0-2f79cfad4020",
   "metadata": {},
   "outputs": [
    {
     "data": {
      "text/plain": [
       "'heatmapYumaAZ.html'"
      ]
     },
     "execution_count": 14,
     "metadata": {},
     "output_type": "execute_result"
    }
   ],
   "source": [
    "df=pd.read_csv(\"../Data/2010YumaAZ.csv\")\n",
    "data=[go.Heatmap(x=df['DAY'],\n",
    "                y=df['LST_TIME'],\n",
    "                z=df['T_HR_AVG'].values.tolist(),#z is going to be color, it cant be a df, so we convert it into a python list!\n",
    "                colorscale='Jet'\n",
    "                )]\n",
    "layout=go.Layout(title='SB CA Temps')\n",
    "fig=go.Figure(data=data,layout=layout)\n",
    "pyo.plot(fig,filename=\"heatmapYumaAZ.html\")"
   ]
  },
  {
   "cell_type": "code",
   "execution_count": null,
   "id": "9e09571d-75b7-4207-b575-25a541fcff81",
   "metadata": {},
   "outputs": [],
   "source": []
  }
 ],
 "metadata": {
  "kernelspec": {
   "display_name": "Python 3",
   "language": "python",
   "name": "python3"
  },
  "language_info": {
   "codemirror_mode": {
    "name": "ipython",
    "version": 3
   },
   "file_extension": ".py",
   "mimetype": "text/x-python",
   "name": "python",
   "nbconvert_exporter": "python",
   "pygments_lexer": "ipython3",
   "version": "3.8.10"
  }
 },
 "nbformat": 4,
 "nbformat_minor": 5
}
