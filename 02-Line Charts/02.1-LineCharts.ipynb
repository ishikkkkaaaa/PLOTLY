{
 "cells": [
  {
   "cell_type": "code",
   "execution_count": 12,
   "id": "a14c0c04-a1a6-4a09-8c46-3ca456d88060",
   "metadata": {},
   "outputs": [
    {
     "name": "stdout",
     "output_type": "stream",
     "text": [
      "   SUMLEV REGION DIVISION  STATE              NAME  CENSUS2010POP  \\\n",
      "0    10.0      0        0    0.0     United States    308745538.0   \n",
      "1    20.0      1        0    0.0  Northeast Region     55317240.0   \n",
      "\n",
      "   ESTIMATESBASE2010  POPESTIMATE2010  POPESTIMATE2011  POPESTIMATE2012  ...  \\\n",
      "0        308758105.0      309338421.0      311644280.0      313993272.0  ...   \n",
      "1         55318350.0       55388349.0       55642659.0       55860261.0  ...   \n",
      "\n",
      "   RDOMESTICMIG2015  RDOMESTICMIG2016  RDOMESTICMIG2017  RNETMIG2011  \\\n",
      "0          0.000000          0.000000           0.00000      2.72090   \n",
      "1         -6.103092         -6.619089          -5.55957      1.46795   \n",
      "\n",
      "   RNETMIG2012  RNETMIG2013  RNETMIG2014  RNETMIG2015  RNETMIG2016  \\\n",
      "0     2.920371     2.883643     3.173228     3.516743     3.513394   \n",
      "1     0.779137     0.605873    -0.082832    -0.903931    -1.307503   \n",
      "\n",
      "   RNETMIG2017  \n",
      "0     3.423941  \n",
      "1    -0.288930  \n",
      "\n",
      "[2 rows x 121 columns]\n"
     ]
    }
   ],
   "source": [
    "import pandas as pd\n",
    "import plotly.offline as pyo\n",
    "import plotly.graph_objs as go\n",
    "\n",
    "#read the data\n",
    "df = pd.read_csv('../sourcedata/nst-est2017-alldata.csv')\n",
    "print(df.head(2))"
   ]
  },
  {
   "cell_type": "code",
   "execution_count": 13,
   "id": "031374a9-61f5-4967-8bf1-814003fc300d",
   "metadata": {},
   "outputs": [],
   "source": [
    "df2=df[df['DIVISION']=='1']\n",
    "#this grabs a colmun from the dataset, and set its index!\n",
    "df2.set_index('NAME',inplace=True)"
   ]
  },
  {
   "cell_type": "code",
   "execution_count": 17,
   "id": "8aa55484-147e-4c28-b0b4-88ac1c3e14c3",
   "metadata": {},
   "outputs": [
    {
     "name": "stdout",
     "output_type": "stream",
     "text": [
      "               POPESTIMATE2010  POPESTIMATE2011  POPESTIMATE2012  \\\n",
      "NAME                                                               \n",
      "Connecticut          3580171.0        3591927.0        3597705.0   \n",
      "Maine                1327568.0        1327968.0        1328101.0   \n",
      "Massachusetts        6564943.0        6612178.0        6659627.0   \n",
      "New Hampshire        1316700.0        1318345.0        1320923.0   \n",
      "Rhode Island         1053169.0        1052154.0        1052761.0   \n",
      "Vermont               625842.0         626210.0         625606.0   \n",
      "\n",
      "               POPESTIMATE2013  POPESTIMATE2014  POPESTIMATE2015  \\\n",
      "NAME                                                               \n",
      "Connecticut          3602470.0        3600188.0        3593862.0   \n",
      "Maine                1327975.0        1328903.0        1327787.0   \n",
      "Massachusetts        6711138.0        6757925.0        6794002.0   \n",
      "New Hampshire        1322622.0        1328684.0        1330134.0   \n",
      "Rhode Island         1052784.0        1054782.0        1055916.0   \n",
      "Vermont               626044.0         625665.0         624455.0   \n",
      "\n",
      "               POPESTIMATE2016  POPESTIMATE2017  \n",
      "NAME                                             \n",
      "Connecticut          3587685.0        3588184.0  \n",
      "Maine                1330232.0        1335907.0  \n",
      "Massachusetts        6823721.0        6859819.0  \n",
      "New Hampshire        1335015.0        1342795.0  \n",
      "Rhode Island         1057566.0        1059639.0  \n",
      "Vermont               623354.0         623657.0  \n"
     ]
    }
   ],
   "source": [
    "# grab just the population columns,by list comprehension:\n",
    "df2 = df2[[col for col in df2.columns if col.startswith('POP')]]\n",
    "print(df2)"
   ]
  },
  {
   "cell_type": "code",
   "execution_count": 19,
   "id": "ab11e7ba-b777-4961-aa6c-e5b2e14483f0",
   "metadata": {},
   "outputs": [
    {
     "data": {
      "text/plain": [
       "'temp-plot.html'"
      ]
     },
     "execution_count": 19,
     "metadata": {},
     "output_type": "execute_result"
    }
   ],
   "source": [
    "\n",
    "data=[go.Scatter(x=df2.columns,\n",
    "                 y=df2.loc[name],\n",
    "                 mode='lines',\n",
    "                 name=name) for name in df2.index]\n",
    "pyo.plot(data)"
   ]
  },
  {
   "cell_type": "code",
   "execution_count": null,
   "id": "58901912-9525-42c5-9c41-0425d6597e04",
   "metadata": {},
   "outputs": [],
   "source": []
  }
 ],
 "metadata": {
  "kernelspec": {
   "display_name": "Python 3",
   "language": "python",
   "name": "python3"
  },
  "language_info": {
   "codemirror_mode": {
    "name": "ipython",
    "version": 3
   },
   "file_extension": ".py",
   "mimetype": "text/x-python",
   "name": "python",
   "nbconvert_exporter": "python",
   "pygments_lexer": "ipython3",
   "version": "3.8.10"
  }
 },
 "nbformat": 4,
 "nbformat_minor": 5
}
