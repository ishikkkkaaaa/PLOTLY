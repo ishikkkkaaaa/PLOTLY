{
 "cells": [
  {
   "cell_type": "code",
   "execution_count": 2,
   "id": "5b3c8b27-a07c-4e26-ba19-78d6030d7db0",
   "metadata": {},
   "outputs": [
    {
     "data": {
      "text/plain": [
       "'Line Charts.html'"
      ]
     },
     "execution_count": 2,
     "metadata": {},
     "output_type": "execute_result"
    }
   ],
   "source": [
    "import plotly.offline as pyo\n",
    "import plotly.graph_objs as go\n",
    "import numpy as np\n",
    "\n",
    "np.random.seed(56)\n",
    "x_values = np.linspace(0, 1, 100)  # 100 evenly spaced values\n",
    "y_values = np.random.randn(100)   # 100 random values\n",
    "\n",
    "trace0 = go.Scatter(\n",
    "    x=x_values,\n",
    "    y=y_values+5,\n",
    "    mode='markers',\n",
    "    name='markers'\n",
    ")\n",
    "trace1 = go.Scatter(\n",
    "    x=x_values,\n",
    "    y=y_values,\n",
    "    mode='lines+markers',\n",
    "    name='lines+markers'\n",
    ")\n",
    "trace2 = go.Scatter(\n",
    "    x=x_values,\n",
    "    y=y_values-5,\n",
    "    mode='lines',\n",
    "    name='lines'\n",
    ")\n",
    "\n",
    "data = [trace0, trace1, trace2]\n",
    "\n",
    "layout = go.Layout(title=\"Line Charts\")\n",
    "\n",
    "fig = go.Figure(data=data, layout=layout)\n",
    "\n",
    "pyo.plot(fig, filename=\"Line Charts.html\")\n"
   ]
  },
  {
   "cell_type": "code",
   "execution_count": null,
   "id": "6194ef23-acec-4789-81d1-227d0df08adc",
   "metadata": {},
   "outputs": [],
   "source": []
  }
 ],
 "metadata": {
  "kernelspec": {
   "display_name": "Python 3",
   "language": "python",
   "name": "python3"
  },
  "language_info": {
   "codemirror_mode": {
    "name": "ipython",
    "version": 3
   },
   "file_extension": ".py",
   "mimetype": "text/x-python",
   "name": "python",
   "nbconvert_exporter": "python",
   "pygments_lexer": "ipython3",
   "version": "3.8.10"
  }
 },
 "nbformat": 4,
 "nbformat_minor": 5
}
