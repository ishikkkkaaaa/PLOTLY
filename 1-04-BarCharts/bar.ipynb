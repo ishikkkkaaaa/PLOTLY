{
 "cells": [
  {
   "cell_type": "code",
   "execution_count": 1,
   "id": "2e17cfd3-f6fb-48a7-bafd-3598f14b4780",
   "metadata": {},
   "outputs": [],
   "source": [
    "import plotly.offline as pyo\n",
    "import plotly.graph_objs as go\n",
    "import pandas as pd"
   ]
  },
  {
   "cell_type": "code",
   "execution_count": 2,
   "id": "717a30bd-bc3f-418b-9a84-3faa6d3cd55f",
   "metadata": {},
   "outputs": [
    {
     "data": {
      "text/html": [
       "<div>\n",
       "<style scoped>\n",
       "    .dataframe tbody tr th:only-of-type {\n",
       "        vertical-align: middle;\n",
       "    }\n",
       "\n",
       "    .dataframe tbody tr th {\n",
       "        vertical-align: top;\n",
       "    }\n",
       "\n",
       "    .dataframe thead th {\n",
       "        text-align: right;\n",
       "    }\n",
       "</style>\n",
       "<table border=\"1\" class=\"dataframe\">\n",
       "  <thead>\n",
       "    <tr style=\"text-align: right;\">\n",
       "      <th></th>\n",
       "      <th>Rank</th>\n",
       "      <th>NOC</th>\n",
       "      <th>Gold</th>\n",
       "      <th>Silver</th>\n",
       "      <th>Bronze</th>\n",
       "      <th>Total</th>\n",
       "    </tr>\n",
       "  </thead>\n",
       "  <tbody>\n",
       "    <tr>\n",
       "      <th>0</th>\n",
       "      <td>1</td>\n",
       "      <td>Norway</td>\n",
       "      <td>14</td>\n",
       "      <td>14</td>\n",
       "      <td>11</td>\n",
       "      <td>39</td>\n",
       "    </tr>\n",
       "    <tr>\n",
       "      <th>1</th>\n",
       "      <td>2</td>\n",
       "      <td>Germany</td>\n",
       "      <td>14</td>\n",
       "      <td>10</td>\n",
       "      <td>7</td>\n",
       "      <td>31</td>\n",
       "    </tr>\n",
       "    <tr>\n",
       "      <th>2</th>\n",
       "      <td>3</td>\n",
       "      <td>Canada</td>\n",
       "      <td>11</td>\n",
       "      <td>8</td>\n",
       "      <td>10</td>\n",
       "      <td>29</td>\n",
       "    </tr>\n",
       "    <tr>\n",
       "      <th>3</th>\n",
       "      <td>4</td>\n",
       "      <td>United States</td>\n",
       "      <td>9</td>\n",
       "      <td>8</td>\n",
       "      <td>6</td>\n",
       "      <td>23</td>\n",
       "    </tr>\n",
       "    <tr>\n",
       "      <th>4</th>\n",
       "      <td>5</td>\n",
       "      <td>Netherlands</td>\n",
       "      <td>8</td>\n",
       "      <td>6</td>\n",
       "      <td>6</td>\n",
       "      <td>20</td>\n",
       "    </tr>\n",
       "  </tbody>\n",
       "</table>\n",
       "</div>"
      ],
      "text/plain": [
       "   Rank            NOC  Gold  Silver  Bronze  Total\n",
       "0     1         Norway    14      14      11     39\n",
       "1     2        Germany    14      10       7     31\n",
       "2     3         Canada    11       8      10     29\n",
       "3     4  United States     9       8       6     23\n",
       "4     5    Netherlands     8       6       6     20"
      ]
     },
     "execution_count": 2,
     "metadata": {},
     "output_type": "execute_result"
    }
   ],
   "source": [
    "df = pd.read_csv('../Data/2018WinterOlympics.csv')\n",
    "df.head()"
   ]
  },
  {
   "cell_type": "code",
   "execution_count": 5,
   "id": "9f2ac567-c212-4ead-a1b4-112a82df55b9",
   "metadata": {},
   "outputs": [
    {
     "data": {
      "text/plain": [
       "'temp-plot.html'"
      ]
     },
     "execution_count": 5,
     "metadata": {},
     "output_type": "execute_result"
    }
   ],
   "source": [
    "data = [go.Bar(x=df['NOC'],y=df['Total'])]\n",
    "layout=go.Layout(title='Medals')\n",
    "fig=go.Figure(data=data,layout=layout)\n",
    "pyo.plot(fig)"
   ]
  },
  {
   "cell_type": "code",
   "execution_count": 8,
   "id": "ae80c64a-6e88-453d-90b5-2863a219f4a3",
   "metadata": {},
   "outputs": [
    {
     "data": {
      "text/plain": [
       "'bar2.html'"
      ]
     },
     "execution_count": 8,
     "metadata": {},
     "output_type": "execute_result"
    }
   ],
   "source": [
    "trace1 = go.Bar(\n",
    "    x=df['NOC'],  # NOC stands for National Olympic Committee\n",
    "    y=df['Gold'],\n",
    "    name = 'Gold',\n",
    "    marker=dict(color='#FFD700') # set the marker color to gold\n",
    ")\n",
    "trace2 = go.Bar(\n",
    "    x=df['NOC'],\n",
    "    y=df['Silver'],\n",
    "    name='Silver',\n",
    "    marker=dict(color='#9EA0A1') # set the marker color to silver\n",
    ")\n",
    "trace3 = go.Bar(\n",
    "    x=df['NOC'],\n",
    "    y=df['Bronze'],\n",
    "    name='Bronze',\n",
    "    marker=dict(color='#CD7F32') # set the marker color to bronze\n",
    ")\n",
    "data = [trace1, trace2, trace3]\n",
    "layout = go.Layout(\n",
    "    title='2018 Winter Olympic Medals by Country'\n",
    ")\n",
    "fig = go.Figure(data=data, layout=layout)\n",
    "pyo.plot(fig, filename='bar2.html')"
   ]
  },
  {
   "cell_type": "code",
   "execution_count": 10,
   "id": "7976493a-f8a3-4b57-922f-e4ff77b9244c",
   "metadata": {},
   "outputs": [
    {
     "data": {
      "text/plain": [
       "'bar3.html'"
      ]
     },
     "execution_count": 10,
     "metadata": {},
     "output_type": "execute_result"
    }
   ],
   "source": [
    "trace1 = go.Bar(\n",
    "    x=df['NOC'],  # NOC stands for National Olympic Committee\n",
    "    y=df['Gold'],\n",
    "    name = 'Gold',\n",
    "    marker=dict(color='#FFD700') # set the marker color to gold\n",
    ")\n",
    "trace2 = go.Bar(\n",
    "    x=df['NOC'],\n",
    "    y=df['Silver'],\n",
    "    name='Silver',\n",
    "    marker=dict(color='#9EA0A1') # set the marker color to silver\n",
    ")\n",
    "trace3 = go.Bar(\n",
    "    x=df['NOC'],\n",
    "    y=df['Bronze'],\n",
    "    name='Bronze',\n",
    "    marker=dict(color='#CD7F32') # set the marker color to bronze\n",
    ")\n",
    "data = [trace1, trace2, trace3]\n",
    "layout = go.Layout(\n",
    "    title='2018 Winter Olympic Medals by Country',barmode='stack'\n",
    ")\n",
    "fig = go.Figure(data=data, layout=layout)\n",
    "pyo.plot(fig, filename='bar3.html')"
   ]
  },
  {
   "cell_type": "code",
   "execution_count": null,
   "id": "df861c2b-7f79-4d1b-8cfc-565be4fb94e1",
   "metadata": {},
   "outputs": [],
   "source": []
  }
 ],
 "metadata": {
  "kernelspec": {
   "display_name": "Python 3",
   "language": "python",
   "name": "python3"
  },
  "language_info": {
   "codemirror_mode": {
    "name": "ipython",
    "version": 3
   },
   "file_extension": ".py",
   "mimetype": "text/x-python",
   "name": "python",
   "nbconvert_exporter": "python",
   "pygments_lexer": "ipython3",
   "version": "3.8.10"
  }
 },
 "nbformat": 4,
 "nbformat_minor": 5
}
